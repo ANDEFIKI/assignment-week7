{
 "cells": [
  {
   "cell_type": "markdown",
   "id": "3a32d010",
   "metadata": {},
   "source": [
    "# Assignment Week 7: Data Analysis and Visualization with the Iris Dataset\n",
    "This notebook demonstrates how to load, analyze, and visualize a dataset using pandas and matplotlib in Python."
   ]
  },
  {
   "cell_type": "markdown",
   "id": "d9444b8e",
   "metadata": {},
   "source": [
    "## 1. Import Required Libraries\n",
    "We will use pandas for data analysis and matplotlib/seaborn for visualization."
   ]
  },
  {
   "cell_type": "code",
   "execution_count": null,
   "id": "f54e1f04",
   "metadata": {},
   "outputs": [],
   "source": [
    "import pandas as pd\n",
    "import numpy as np\n",
    "import matplotlib.pyplot as plt\n",
    "import seaborn as sns\n",
    "from sklearn.datasets import load_iris"
   ]
  },
  {
   "cell_type": "markdown",
   "id": "24064f0c",
   "metadata": {},
   "source": [
    "## 2. Load Dataset\n",
    "We will use the Iris dataset from sklearn, which is a classic dataset for classification and data analysis."
   ]
  },
  {
   "cell_type": "code",
   "execution_count": null,
   "id": "95773538",
   "metadata": {},
   "outputs": [],
   "source": [
    "# Load the Iris dataset\n",
    "iris = load_iris()\n",
    "df = pd.DataFrame(data=iris.data, columns=iris.feature_names)\n",
    "df['species'] = pd.Categorical.from_codes(iris.target, iris.target_names)\n",
    "df.head()"
   ]
  },
  {
   "cell_type": "markdown",
   "id": "c3e5d1bc",
   "metadata": {},
   "source": [
    "## 3. Explore Dataset\n",
    "Let's inspect the first few rows, check data types, and look for missing values."
   ]
  },
  {
   "cell_type": "code",
   "execution_count": null,
   "id": "5d63a3b6",
   "metadata": {},
   "outputs": [],
   "source": [
    "# Display first five rows\n",
    "df.head()\n",
    "# Check data types\n",
    "df.dtypes\n",
    "# Check for missing values\n",
    "df.isnull().sum()"
   ]
  },
  {
   "cell_type": "code",
   "execution_count": null,
   "id": "9ec02814",
   "metadata": {},
   "outputs": [],
   "source": [
    "# Clean dataset if missing values exist\n",
    "if df.isnull().values.any():\n",
    "    df = df.fillna(df.mean(numeric_only=True))\n",
    "    df = df.dropna()\n",
    "df.isnull().sum()"
   ]
  },
  {
   "cell_type": "markdown",
   "id": "8eacb861",
   "metadata": {},
   "source": [
    "## 4. Basic Data Analysis\n",
    "Let's compute summary statistics and analyze the data by species."
   ]
  },
  {
   "cell_type": "code",
   "execution_count": null,
   "id": "5c643946",
   "metadata": {},
   "outputs": [],
   "source": [
    "# Summary statistics\n",
    "df.describe()\n",
    "# Group by species and compute mean\n",
    "grouped = df.groupby('species').mean(numeric_only=True)\n",
    "grouped\n",
    "# Identify patterns\n",
    "for col in iris.feature_names:\n",
    "    max_species = grouped[col].idxmax()\n",
    "    print(f\"Species with highest average {col}: {max_species}\")"
   ]
  },
  {
   "cell_type": "markdown",
   "id": "02ff8360",
   "metadata": {},
   "source": [
    "## 5. Create Visualizations\n",
    "We will create four types of plots: line chart, bar chart, histogram, and scatter plot."
   ]
  },
  {
   "cell_type": "code",
   "execution_count": null,
   "id": "516075a8",
   "metadata": {},
   "outputs": [],
   "source": [
    "sns.set(style=\"whitegrid\")\n",
    "# 1. Line chart: Sepal Length Across Samples\n",
    "plt.figure(figsize=(8, 4))\n",
    "plt.plot(df.index, df['sepal length (cm)'], label='Sepal Length')\n",
    "plt.title('Sepal Length Across Samples')\n",
    "plt.xlabel('Sample Index')\n",
    "plt.ylabel('Sepal Length (cm)')\n",
    "plt.legend()\n",
    "plt.tight_layout()\n",
    "plt.show()\n",
    "# 2. Bar chart: Average Petal Length per Species\n",
    "plt.figure(figsize=(6, 4))\n",
    "sns.barplot(x=grouped.index, y=grouped['petal length (cm)'], palette='viridis')\n",
    "plt.title('Average Petal Length per Species')\n",
    "plt.xlabel('Species')\n",
    "plt.ylabel('Average Petal Length (cm)')\n",
    "plt.tight_layout()\n",
    "plt.show()\n",
    "# 3. Histogram: Distribution of Sepal Width\n",
    "plt.figure(figsize=(6, 4))\n",
    "sns.histplot(df['sepal width (cm)'], bins=20, kde=True, color='skyblue')\n",
    "plt.title('Distribution of Sepal Width')\n",
    "plt.xlabel('Sepal Width (cm)')\n",
    "plt.ylabel('Frequency')\n",
    "plt.tight_layout()\n",
    "plt.show()\n",
    "# 4. Scatter plot: Sepal Length vs Petal Length by Species\n",
    "plt.figure(figsize=(7, 5))\n",
    "sns.scatterplot(data=df, x='sepal length (cm)', y='petal length (cm)', hue='species', palette='deep')\n",
    "plt.title('Sepal Length vs Petal Length by Species')\n",
    "plt.xlabel('Sepal Length (cm)')\n",
    "plt.ylabel('Petal Length (cm)')\n",
    "plt.legend(title='Species')\n",
    "plt.tight_layout()\n",
    "plt.show()"
   ]
  },
  {
   "cell_type": "markdown",
   "id": "2bf170aa",
   "metadata": {},
   "source": [
    "## 6. Findings and Observations\n",
    "- The Iris dataset contains three species with distinct average measurements for each feature.\n",
    "- Visualizations show clear separation between species for petal length and sepal length.\n",
    "- No missing values were found in the dataset.\n",
    "- The scatter plot highlights the relationship between sepal length and petal length, with species clustering.\n",
    "- These insights can be useful for classification and further analysis."
   ]
  }
 ],
 "metadata": {
  "language_info": {
   "name": "python"
  }
 },
 "nbformat": 4,
 "nbformat_minor": 5
}
